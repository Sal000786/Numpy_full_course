{
 "cells": [
  {
   "cell_type": "code",
   "execution_count": 2,
   "id": "3397c1d0",
   "metadata": {},
   "outputs": [],
   "source": [
    "import numpy as np"
   ]
  },
  {
   "cell_type": "code",
   "execution_count": 6,
   "id": "e75cf9cd",
   "metadata": {},
   "outputs": [
    {
     "name": "stdout",
     "output_type": "stream",
     "text": [
      "[1 2 3 4 5]\n",
      "[ 6  7  8  9 10]\n",
      "[ 1  2  3  4  5  6  7  8  9 10]\n"
     ]
    }
   ],
   "source": [
    "arr=np.array([1,2,3,4,5])\n",
    "print(arr)\n",
    "arr2=np.array([6,7,8,9,10])\n",
    "print(arr2)\n",
    "\n",
    "join=np.concatenate([arr,arr2])\n",
    "print(join)"
   ]
  },
  {
   "cell_type": "code",
   "execution_count": 10,
   "id": "52fd7045",
   "metadata": {},
   "outputs": [
    {
     "name": "stdout",
     "output_type": "stream",
     "text": [
      "joining 2D arrays\n",
      "[[1 2 3 4 5]\n",
      " [5 4 3 2 1]]\n",
      "[[ 6  7  8  9 10]\n",
      " [10  9  8  7  6]]\n",
      "[[ 1  2  3  4  5  6  7  8  9 10]\n",
      " [ 5  4  3  2  1 10  9  8  7  6]]\n",
      "\n",
      "joining 2d array on axis 0\n",
      "joining 2D arrays\n",
      "[[1 2 3 4 5]\n",
      " [5 4 3 2 1]]\n",
      "[[ 6  7  8  9 10]\n",
      " [10  9  8  7  6]]\n",
      "[[ 1  2  3  4  5]\n",
      " [ 5  4  3  2  1]\n",
      " [ 6  7  8  9 10]\n",
      " [10  9  8  7  6]]\n"
     ]
    }
   ],
   "source": [
    "print(\"joining 2D arrays\")\n",
    "arr=np.array([[1,2,3,4,5],[5,4,3,2,1]])\n",
    "print(arr)\n",
    "arr2=np.array([[6,7,8,9,10],[10,9,8,7,6]])\n",
    "print(arr2)\n",
    "\n",
    "join=np.concatenate([arr,arr2],axis=1)\n",
    "print(join)\n",
    "\n",
    "print()\n",
    "print(\"joining 2d array on axis 0\")\n",
    "print(\"joining 2D arrays\")\n",
    "arr=np.array([[1,2,3,4,5],[5,4,3,2,1]])\n",
    "print(arr)\n",
    "arr2=np.array([[6,7,8,9,10],[10,9,8,7,6]])\n",
    "print(arr2)\n",
    "\n",
    "join=np.concatenate([arr,arr2],axis=0)\n",
    "print(join)"
   ]
  },
  {
   "cell_type": "code",
   "execution_count": 15,
   "id": "580d9d78",
   "metadata": {},
   "outputs": [
    {
     "name": "stdout",
     "output_type": "stream",
     "text": [
      "Stack function of numpy to join arrays \n",
      "[1 2 3 4 5]\n",
      "[ 6  7  8  9 10]\n",
      "[[ 1  2  3  4  5]\n",
      " [ 6  7  8  9 10]]\n",
      "\n",
      "[ 1  2  3  4  5  6  7  8  9 10]\n",
      "\n",
      "[[ 1  2  3  4  5]\n",
      " [ 6  7  8  9 10]]\n",
      "\n",
      "[[[ 1  6]\n",
      "  [ 2  7]\n",
      "  [ 3  8]\n",
      "  [ 4  9]\n",
      "  [ 5 10]]]\n"
     ]
    }
   ],
   "source": [
    "print(\"Stack function of numpy to join arrays \")\n",
    "arr=np.array([1,2,3,4,5])\n",
    "print(arr)\n",
    "arr2=np.array([6,7,8,9,10])\n",
    "print(arr2)\n",
    "\n",
    "join=np.stack([arr,arr2])\n",
    "print(join)\n",
    "\n",
    "print()\n",
    "join=np.hstack([arr,arr2])\n",
    "print(join)\n",
    "\n",
    "print()\n",
    "join=np.vstack([arr,arr2])\n",
    "print(join)\n",
    "\n",
    "print()\n",
    "join=np.dstack([arr,arr2])\n",
    "print(join)"
   ]
  }
 ],
 "metadata": {
  "kernelspec": {
   "display_name": "Python 3",
   "language": "python",
   "name": "python3"
  },
  "language_info": {
   "codemirror_mode": {
    "name": "ipython",
    "version": 3
   },
   "file_extension": ".py",
   "mimetype": "text/x-python",
   "name": "python",
   "nbconvert_exporter": "python",
   "pygments_lexer": "ipython3",
   "version": "3.8.8"
  }
 },
 "nbformat": 4,
 "nbformat_minor": 5
}
