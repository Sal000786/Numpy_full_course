{
 "cells": [
  {
   "cell_type": "markdown",
   "id": "f76de3de",
   "metadata": {},
   "source": [
    "# Search"
   ]
  },
  {
   "cell_type": "code",
   "execution_count": 1,
   "id": "a7ff67ca",
   "metadata": {},
   "outputs": [],
   "source": [
    "import numpy as np\n"
   ]
  },
  {
   "cell_type": "code",
   "execution_count": 21,
   "id": "07b455b0",
   "metadata": {
    "scrolled": true
   },
   "outputs": [
    {
     "name": "stdout",
     "output_type": "stream",
     "text": [
      "[1 2 3 4 5 6 7 4 3 2 4 5 3 2 2 4 5 5 6 7 8 4]\n",
      "Searches a perticular element in the array and returns the index \n",
      "(array([ 1,  9, 13, 14], dtype=int64),)\n",
      "\n",
      "(array([ 1,  3,  5,  7,  9, 10, 13, 14, 15, 18, 20, 21], dtype=int64),)\n"
     ]
    }
   ],
   "source": [
    "\n",
    "arr=np.array([1,2,3,4,5,6,7,4,3,2,4,5,3,2,2,4,5,5,6,7,8,4])\n",
    "print(arr)\n",
    "print(\"Searches a perticular element in the array and returns the index \")\n",
    "x=np.where(arr==2)\n",
    "print(x)\n",
    "print()\n",
    "y=np.where(arr%2==0)\n",
    "print(y)"
   ]
  },
  {
   "cell_type": "markdown",
   "id": "69590a8b",
   "metadata": {},
   "source": [
    "# Search_Sort array"
   ]
  },
  {
   "cell_type": "code",
   "execution_count": 32,
   "id": "ca1e7ecf",
   "metadata": {},
   "outputs": [
    {
     "name": "stdout",
     "output_type": "stream",
     "text": [
      "[ 1  2  3  4  5  6  7  8  9 10]\n",
      "4\n",
      "\n",
      "10\n",
      "\n",
      "1\n"
     ]
    }
   ],
   "source": [
    "arr=np.array([1,2,3,4,5,6,7,8,9,10])\n",
    "print(arr)\n",
    "x=np.searchsorted(arr,5)\n",
    "print(x)\n",
    "print()\n",
    "x=np.searchsorted(arr,11)\n",
    "print(x)\n",
    "print()\n",
    "\n",
    "x=np.searchsorted(arr,1,side=\"right\")\n",
    "print(x)"
   ]
  },
  {
   "cell_type": "markdown",
   "id": "f66de6cf",
   "metadata": {},
   "source": [
    "# Sort array"
   ]
  },
  {
   "cell_type": "code",
   "execution_count": 36,
   "id": "64d6b02c",
   "metadata": {},
   "outputs": [
    {
     "name": "stdout",
     "output_type": "stream",
     "text": [
      "[ 0  1  1  2  2  4  5 43 53]\n",
      "['a' 'd' 'f' 's']\n"
     ]
    }
   ],
   "source": [
    "arr=np.array([1,43,2,4,5,53,2,1,0])\n",
    "sort=np.sort(arr)\n",
    "print(sort)\n",
    "\n",
    "arr=np.array(['a','s','d','f'])\n",
    "sort=np.sort(arr)\n",
    "print(sort)"
   ]
  },
  {
   "cell_type": "markdown",
   "id": "f7fcddca",
   "metadata": {},
   "source": [
    "# Filter array"
   ]
  },
  {
   "cell_type": "code",
   "execution_count": 49,
   "id": "a90b8e42",
   "metadata": {},
   "outputs": [
    {
     "name": "stdout",
     "output_type": "stream",
     "text": [
      "[1 3 5]\n",
      "<class 'numpy.ndarray'>\n",
      "this method doesn't work when there is lower element(true,false) than the original array\n"
     ]
    }
   ],
   "source": [
    "arr=np.array([1,2,3,4,5])\n",
    "f=[True,False,True,False,True]\n",
    "arr_new=arr[f]\n",
    "print(arr_new)\n",
    "print(type(arr_new))\n",
    "\n",
    "print(\"this method doesn't work when there is lower element(true,false) than the original array\")"
   ]
  },
  {
   "cell_type": "code",
   "execution_count": 48,
   "id": "ef49d6ee",
   "metadata": {},
   "outputs": [
    {
     "ename": "IndexError",
     "evalue": "boolean index did not match indexed array along dimension 0; dimension is 5 but corresponding boolean dimension is 4",
     "output_type": "error",
     "traceback": [
      "\u001b[1;31m---------------------------------------------------------------------------\u001b[0m",
      "\u001b[1;31mIndexError\u001b[0m                                Traceback (most recent call last)",
      "\u001b[1;32m<ipython-input-48-a757ba6de323>\u001b[0m in \u001b[0;36m<module>\u001b[1;34m\u001b[0m\n\u001b[0;32m      1\u001b[0m \u001b[0marr\u001b[0m\u001b[1;33m=\u001b[0m\u001b[0mnp\u001b[0m\u001b[1;33m.\u001b[0m\u001b[0marray\u001b[0m\u001b[1;33m(\u001b[0m\u001b[1;33m[\u001b[0m\u001b[1;36m1\u001b[0m\u001b[1;33m,\u001b[0m\u001b[1;36m2\u001b[0m\u001b[1;33m,\u001b[0m\u001b[1;36m3\u001b[0m\u001b[1;33m,\u001b[0m\u001b[1;36m4\u001b[0m\u001b[1;33m,\u001b[0m\u001b[1;36m5\u001b[0m\u001b[1;33m]\u001b[0m\u001b[1;33m)\u001b[0m\u001b[1;33m\u001b[0m\u001b[1;33m\u001b[0m\u001b[0m\n\u001b[0;32m      2\u001b[0m \u001b[0mf\u001b[0m\u001b[1;33m=\u001b[0m\u001b[1;33m[\u001b[0m\u001b[1;32mTrue\u001b[0m\u001b[1;33m,\u001b[0m\u001b[1;32mFalse\u001b[0m\u001b[1;33m,\u001b[0m\u001b[1;32mTrue\u001b[0m\u001b[1;33m,\u001b[0m\u001b[1;32mFalse\u001b[0m\u001b[1;33m]\u001b[0m\u001b[1;33m\u001b[0m\u001b[1;33m\u001b[0m\u001b[0m\n\u001b[1;32m----> 3\u001b[1;33m \u001b[0marr_new\u001b[0m\u001b[1;33m=\u001b[0m\u001b[0marr\u001b[0m\u001b[1;33m[\u001b[0m\u001b[0mf\u001b[0m\u001b[1;33m]\u001b[0m\u001b[1;33m\u001b[0m\u001b[1;33m\u001b[0m\u001b[0m\n\u001b[0m\u001b[0;32m      4\u001b[0m \u001b[0mprint\u001b[0m\u001b[1;33m(\u001b[0m\u001b[0marr_new\u001b[0m\u001b[1;33m)\u001b[0m\u001b[1;33m\u001b[0m\u001b[1;33m\u001b[0m\u001b[0m\n\u001b[0;32m      5\u001b[0m \u001b[0mprint\u001b[0m\u001b[1;33m(\u001b[0m\u001b[0mtype\u001b[0m\u001b[1;33m(\u001b[0m\u001b[0marr_new\u001b[0m\u001b[1;33m)\u001b[0m\u001b[1;33m)\u001b[0m\u001b[1;33m\u001b[0m\u001b[1;33m\u001b[0m\u001b[0m\n",
      "\u001b[1;31mIndexError\u001b[0m: boolean index did not match indexed array along dimension 0; dimension is 5 but corresponding boolean dimension is 4"
     ]
    }
   ],
   "source": []
  },
  {
   "cell_type": "code",
   "execution_count": null,
   "id": "f6552984",
   "metadata": {},
   "outputs": [],
   "source": []
  }
 ],
 "metadata": {
  "kernelspec": {
   "display_name": "Python 3",
   "language": "python",
   "name": "python3"
  },
  "language_info": {
   "codemirror_mode": {
    "name": "ipython",
    "version": 3
   },
   "file_extension": ".py",
   "mimetype": "text/x-python",
   "name": "python",
   "nbconvert_exporter": "python",
   "pygments_lexer": "ipython3",
   "version": "3.8.8"
  }
 },
 "nbformat": 4,
 "nbformat_minor": 5
}
