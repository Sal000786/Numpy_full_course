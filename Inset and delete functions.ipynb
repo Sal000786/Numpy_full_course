{
 "cells": [
  {
   "cell_type": "code",
   "execution_count": 2,
   "id": "a03d4f44",
   "metadata": {},
   "outputs": [],
   "source": [
    "import numpy as np"
   ]
  },
  {
   "cell_type": "code",
   "execution_count": 29,
   "id": "eac6f7a1",
   "metadata": {},
   "outputs": [
    {
     "name": "stdout",
     "output_type": "stream",
     "text": [
      "[1 2 3 4 5]\n",
      "\n",
      "[ 1  2 15  3 15  4  5]\n",
      "\n",
      "[ 1  2 15  3 20  4  5]\n",
      "\n"
     ]
    }
   ],
   "source": [
    "arr=np.array([1,2,3,4,5])\n",
    "print(arr)\n",
    "# x=np.insert(arr,2,15)\n",
    "# print(x)\n",
    "print()\n",
    "\n",
    "x=np.insert(arr,(2,3),15)\n",
    "print(x)\n",
    "print()\n",
    "x=np.insert(arr,(2,3),(15,20))\n",
    "print(x)\n",
    "print()\n"
   ]
  },
  {
   "cell_type": "code",
   "execution_count": 30,
   "id": "430a63ac",
   "metadata": {},
   "outputs": [
    {
     "name": "stdout",
     "output_type": "stream",
     "text": [
      "[[1 2 3]\n",
      " [4 5 6]]\n",
      "\n",
      "[[15  1 15  2  3]\n",
      " [15  4 15  5  6]]\n",
      "\n",
      "[[15 20 25]\n",
      " [ 1  2  3]\n",
      " [15 20 25]\n",
      " [ 4  5  6]]\n",
      "\n"
     ]
    }
   ],
   "source": [
    "arr=np.array([[1,2,3],[4,5,6]])\n",
    "print(arr)\n",
    "# x=np.insert(arr,2,15)\n",
    "# print(x)\n",
    "print()\n",
    "\n",
    "x=np.insert(arr,(0,1),15,axis=1)\n",
    "print(x)\n",
    "print()\n",
    "x=np.insert(arr,(0,1),(15,20,25),axis=0)\n",
    "print(x)\n",
    "print()"
   ]
  },
  {
   "cell_type": "markdown",
   "id": "5f63707c",
   "metadata": {},
   "source": [
    "# Delete function"
   ]
  },
  {
   "cell_type": "code",
   "execution_count": 32,
   "id": "711ec780",
   "metadata": {},
   "outputs": [
    {
     "name": "stdout",
     "output_type": "stream",
     "text": [
      "[1 2 4 5]\n"
     ]
    }
   ],
   "source": [
    "arr=np.array([1,2,3,4,5])\n",
    "x=np.delete(arr,[2])\n",
    "print(x)"
   ]
  }
 ],
 "metadata": {
  "kernelspec": {
   "display_name": "Python 3",
   "language": "python",
   "name": "python3"
  },
  "language_info": {
   "codemirror_mode": {
    "name": "ipython",
    "version": 3
   },
   "file_extension": ".py",
   "mimetype": "text/x-python",
   "name": "python",
   "nbconvert_exporter": "python",
   "pygments_lexer": "ipython3",
   "version": "3.8.8"
  }
 },
 "nbformat": 4,
 "nbformat_minor": 5
}
