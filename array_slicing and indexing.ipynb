{
 "cells": [
  {
   "cell_type": "markdown",
   "id": "8df1eee3",
   "metadata": {},
   "source": [
    "\n",
    "\n",
    "\n",
    "# Numpy array Indexing and slicing "
   ]
  },
  {
   "cell_type": "code",
   "execution_count": 2,
   "id": "72b3be5a",
   "metadata": {},
   "outputs": [],
   "source": [
    "import numpy as np"
   ]
  },
  {
   "cell_type": "code",
   "execution_count": 3,
   "id": "40f4192d",
   "metadata": {},
   "outputs": [
    {
     "name": "stdout",
     "output_type": "stream",
     "text": [
      "[1 2 3]\n",
      "1\n",
      "2\n"
     ]
    }
   ],
   "source": [
    "arr=np.array([1,2,3])\n",
    "print(arr)\n",
    "print(arr.ndim)\n",
    "print(arr[1])"
   ]
  },
  {
   "cell_type": "code",
   "execution_count": 4,
   "id": "5970d092",
   "metadata": {},
   "outputs": [
    {
     "name": "stdout",
     "output_type": "stream",
     "text": [
      "[1 2 3]\n",
      "1\n",
      "3\n"
     ]
    }
   ],
   "source": [
    "arr=np.array([1,2,3])\n",
    "print(arr)\n",
    "print(arr.ndim)\n",
    "print(arr[-1])"
   ]
  },
  {
   "cell_type": "code",
   "execution_count": 25,
   "id": "4a03bd0b",
   "metadata": {},
   "outputs": [
    {
     "name": "stdout",
     "output_type": "stream",
     "text": [
      "[ 1  2  3  4  5  6  7  8  9 10 11 12 13 14 15 16 17 18 19]\n",
      "[1 2 3 4 5]\n",
      "[19 18 17 16 15 14 13 12 11 10  9  8  7  6  5  4  3  2  1]\n",
      "\n",
      "[19 17 15 13 11  9  7  5  3  1]\n",
      "[12 11 10  9  8  7  6  5  4  3  2]\n",
      "[12 10  8  6  4  2]\n",
      "[]\n"
     ]
    }
   ],
   "source": [
    "print('ARRAY SLICING ')\n",
    "arr=np.arange(1,20)\n",
    "print(arr)\n",
    "print(arr[0:5:1])\n",
    "print(arr[: : -1])\n",
    "print()\n",
    "print(arr[: : -2])\n",
    "print(arr[11:0:-1])\n",
    "print(arr[11:0:-2])\n"
   ]
  },
  {
   "cell_type": "code",
   "execution_count": 29,
   "id": "5be709d5",
   "metadata": {},
   "outputs": [
    {
     "name": "stdout",
     "output_type": "stream",
     "text": [
      "ARRAY INDEXING\n",
      "[ 1  2  3  4  5  6  7  8  9 10 11 12 13 14 15 16 17 18 19]\n",
      "2\n"
     ]
    }
   ],
   "source": [
    "print('ARRAY INDEXING')\n",
    "arr=np.arange(1,20)\n",
    "print(arr)\n",
    "print(arr[1])"
   ]
  },
  {
   "cell_type": "code",
   "execution_count": 37,
   "id": "c3ac0c81",
   "metadata": {},
   "outputs": [
    {
     "name": "stdout",
     "output_type": "stream",
     "text": [
      "ARRAY INDEXING\n",
      "[[1 2 3]\n",
      " [4 5 6]]\n",
      "2\n",
      "2\n"
     ]
    }
   ],
   "source": [
    "print('ARRAY INDEXING')\n",
    "arr=np.array([[1,2,3],[4,5,6]])\n",
    "print(arr)\n",
    "print(arr.ndim)\n",
    "print(arr[0,1])"
   ]
  },
  {
   "cell_type": "code",
   "execution_count": 38,
   "id": "5019b2ad",
   "metadata": {},
   "outputs": [
    {
     "name": "stdout",
     "output_type": "stream",
     "text": [
      "ARRAY INDEXING\n",
      "[[1 2 3]\n",
      " [4 5 6]]\n",
      "2\n",
      "[1 2 3]\n"
     ]
    }
   ],
   "source": [
    "print('ARRAY INDEXING')\n",
    "arr=np.array([[1,2,3],[4,5,6]])\n",
    "print(arr)\n",
    "print(arr.ndim)\n",
    "print(arr[0,0: : 1])"
   ]
  }
 ],
 "metadata": {
  "kernelspec": {
   "display_name": "Python 3",
   "language": "python",
   "name": "python3"
  },
  "language_info": {
   "codemirror_mode": {
    "name": "ipython",
    "version": 3
   },
   "file_extension": ".py",
   "mimetype": "text/x-python",
   "name": "python",
   "nbconvert_exporter": "python",
   "pygments_lexer": "ipython3",
   "version": "3.8.8"
  }
 },
 "nbformat": 4,
 "nbformat_minor": 5
}
